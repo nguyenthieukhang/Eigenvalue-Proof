{
 "cells": [
  {
   "cell_type": "markdown",
   "id": "c56bf6cf-0e14-416e-977e-631106043f7a",
   "metadata": {},
   "source": [
    "# Find one eigenvalue of a square matrix\n",
    "\n",
    "This notebook finds a single eigenvalue of a square matrix, following the proof from Beezer: A First Course in Linear Algebra and Linear Algebra Done Right."
   ]
  },
  {
   "cell_type": "code",
   "execution_count": 1,
   "id": "f13cdf25-9da5-467f-9e87-58b0f24131d4",
   "metadata": {},
   "outputs": [],
   "source": [
    "import numpy as np\n",
    "from sympy import Matrix\n",
    "from sympy import symbols, solve\n",
    "from sympy import eye"
   ]
  },
  {
   "cell_type": "markdown",
   "id": "0b59b5ba-c964-4891-aa5a-c4d3f24d1737",
   "metadata": {},
   "source": [
    "Setting up the parameters. A is the square matrix, whose eigenvalue is to be found. D is the dimension of A, and X is any random vector."
   ]
  },
  {
   "cell_type": "code",
   "execution_count": 2,
   "id": "325682c0-1c7d-405d-b206-bdbd42785969",
   "metadata": {},
   "outputs": [],
   "source": [
    "X = Matrix([3, 0, 1, -5, 4])\n",
    "A = Matrix([\n",
    "    [-7, -1, 11, 0, -4],\n",
    "    [4, 1, 0, 2, 0],\n",
    "    [-10, -1, 14, 0, -4],\n",
    "    [8, 2, -15, -1, 5],\n",
    "    [-10, -1, 16, 0, 6]\n",
    "])\n",
    "D = 5"
   ]
  },
  {
   "cell_type": "markdown",
   "id": "863a5e10-978d-4345-a625-7a2e81aedd45",
   "metadata": {},
   "source": [
    "Build the polynomial"
   ]
  },
  {
   "cell_type": "code",
   "execution_count": 3,
   "id": "010735c8-f352-4d8e-b08d-df60b46758c5",
   "metadata": {},
   "outputs": [
    {
     "data": {
      "text/plain": [
       "[[3, 0, 1, -5, 4],\n",
       " [-26, 2, -32, 34, 10],\n",
       " [-212, -34, -230, 292, -194],\n",
       " [-236, -298, -290, 424, -2690],\n",
       " [9520, -394, 9358, -12008, -18122],\n",
       " [109180, 13670, 108694, -143600, -53810]]"
      ]
     },
     "execution_count": 3,
     "metadata": {},
     "output_type": "execute_result"
    }
   ],
   "source": [
    "S = []\n",
    "for i in range(D + 1):\n",
    "    temp = (A ** i) * X\n",
    "    S.append([temp[i, 0] for i in range(temp.rows)])\n",
    "S"
   ]
  },
  {
   "cell_type": "code",
   "execution_count": 4,
   "id": "cb95bf2c-4a9b-420e-aa77-18268ebe6945",
   "metadata": {},
   "outputs": [
    {
     "data": {
      "text/latex": [
       "$\\displaystyle \\left[\\begin{matrix}360\\\\-150\\\\-131\\\\77\\\\-13\\\\1\\end{matrix}\\right]$"
      ],
      "text/plain": [
       "Matrix([\n",
       "[ 360],\n",
       "[-150],\n",
       "[-131],\n",
       "[  77],\n",
       "[ -13],\n",
       "[   1]])"
      ]
     },
     "execution_count": 4,
     "metadata": {},
     "output_type": "execute_result"
    }
   ],
   "source": [
    "vectors = Matrix(np.array(S).T)\n",
    "linear_dependence = vectors.nullspace()[0]\n",
    "linear_dependence"
   ]
  },
  {
   "cell_type": "code",
   "execution_count": 5,
   "id": "d6a15813-d52d-4676-ab13-717f1b865fcb",
   "metadata": {},
   "outputs": [
    {
     "name": "stdout",
     "output_type": "stream",
     "text": [
      "The coefficients are [360, -150, -131, 77, -13, 1]\n"
     ]
    },
    {
     "data": {
      "text/latex": [
       "$\\displaystyle x^{5} - 13 x^{4} + 77 x^{3} - 131 x^{2} - 150 x + 360$"
      ],
      "text/plain": [
       "x**5 - 13*x**4 + 77*x**3 - 131*x**2 - 150*x + 360"
      ]
     },
     "execution_count": 5,
     "metadata": {},
     "output_type": "execute_result"
    }
   ],
   "source": [
    "coefficients = []\n",
    "for i in range(linear_dependence.rows - 1, -1, -1):\n",
    "    if linear_dependence[i, 0] != 0:\n",
    "        coefficients = [linear_dependence[j, 0] for j in range(0, i + 1)]\n",
    "        break\n",
    "if coefficients[-1] != 1:\n",
    "    for i in range(len(coefficients)):\n",
    "        coefficients[i] /= coefficients[-1]\n",
    "print(f'The coefficients are {coefficients}')\n",
    "\n",
    "# Define the symbolic variable\n",
    "x = symbols('x')\n",
    "\n",
    "# Define the polynomial equation\n",
    "polynomial = 0\n",
    "\n",
    "# Loop through the elements using nested loops\n",
    "for i in range(len(coefficients)):\n",
    "    polynomial += coefficients[i] * (x ** i)\n",
    "\n",
    "polynomial\n",
    "# Find the roots of the polynomial"
   ]
  },
  {
   "cell_type": "code",
   "execution_count": 6,
   "id": "755d462d-2b6a-4b7f-8f9a-1c432ee49c81",
   "metadata": {},
   "outputs": [
    {
     "data": {
      "text/latex": [
       "$\\displaystyle \\left[\\begin{matrix}0\\\\0\\\\0\\\\0\\\\0\\end{matrix}\\right]$"
      ],
      "text/plain": [
       "Matrix([\n",
       "[0],\n",
       "[0],\n",
       "[0],\n",
       "[0],\n",
       "[0]])"
      ]
     },
     "execution_count": 6,
     "metadata": {},
     "output_type": "execute_result"
    }
   ],
   "source": [
    "P = Matrix.zeros(D, D)\n",
    "for i in range(len(coefficients)):\n",
    "    P = P + coefficients[i] * A ** i\n",
    "res = P * X\n",
    "res"
   ]
  },
  {
   "cell_type": "code",
   "execution_count": 7,
   "id": "9775012c-78a7-4afd-9aa9-0bdc3e08ecbd",
   "metadata": {},
   "outputs": [],
   "source": [
    "roots = solve(polynomial, x)"
   ]
  },
  {
   "cell_type": "code",
   "execution_count": 8,
   "id": "bd06607b-c363-405b-9e8d-49f72161eeef",
   "metadata": {},
   "outputs": [
    {
     "name": "stdout",
     "output_type": "stream",
     "text": [
      "norm = 69.7065276713738\n",
      "norm = 435.284785951863\n",
      "norm = 2266.61371965366\n",
      "norm = 18880.2034726247\n",
      "norm = 0E-120\n",
      "K = 4. The eigen vector is:\n"
     ]
    },
    {
     "data": {
      "text/latex": [
       "$\\displaystyle \\left[\\begin{matrix}7862.86771707997 + 2561.92814065844 i\\\\1577.47304487333 - 903.767273592908 i\\\\7862.86771707997 + 2561.92814065844 i\\\\-10528.6947371091 - 3071.93694657837 i\\\\1031.93895799577 - 9748.09879531319 i\\end{matrix}\\right]$"
      ],
      "text/plain": [
       "Matrix([\n",
       "[ 7862.86771707997 + 2561.92814065844*I],\n",
       "[ 1577.47304487333 - 903.767273592908*I],\n",
       "[ 7862.86771707997 + 2561.92814065844*I],\n",
       "[-10528.6947371091 - 3071.93694657837*I],\n",
       "[ 1031.93895799577 - 9748.09879531319*I]])"
      ]
     },
     "execution_count": 8,
     "metadata": {},
     "output_type": "execute_result"
    }
   ],
   "source": [
    "cur = X\n",
    "K = -1\n",
    "eigenvector = X\n",
    "EPS = 10**-15\n",
    "for k in range(len(roots)):\n",
    "    factor = A - roots[k] * eye(D)\n",
    "    cur = factor * cur\n",
    "    norm = cur.applyfunc(lambda x: x.evalf()).norm()\n",
    "    print(f'norm = {norm}')\n",
    "    if norm < EPS:\n",
    "        K = k\n",
    "        break\n",
    "    eigenvector = factor * eigenvector\n",
    "print(f'K = {K}. The eigen vector is:')\n",
    "eigenvector = eigenvector.applyfunc(lambda x: x.evalf())\n",
    "eigenvector"
   ]
  },
  {
   "cell_type": "code",
   "execution_count": 9,
   "id": "ea2081d1-3ed0-442c-b0b9-a567147527a7",
   "metadata": {},
   "outputs": [
    {
     "name": "stdout",
     "output_type": "stream",
     "text": [
      "The eigenvalue is 4.83861939757552 + 4.8007522419458*I\n",
      "The eigenvalue is 4.83861939757553 + 4.8007522419458*I\n",
      "The eigenvalue is 4.83861939757552 + 4.8007522419458*I\n",
      "The eigenvalue is 4.83861939757552 + 4.8007522419458*I\n",
      "The eigenvalue is 4.83861939757552 + 4.8007522419458*I\n"
     ]
    }
   ],
   "source": [
    "for i in range(D):\n",
    "    eigenvalue = (A * eigenvector)[i, 0] / eigenvector[i, 0]\n",
    "    print(f'The eigenvalue is {eigenvalue.evalf()}')"
   ]
  }
 ],
 "metadata": {
  "kernelspec": {
   "display_name": "Python 3 (ipykernel)",
   "language": "python",
   "name": "python3"
  },
  "language_info": {
   "codemirror_mode": {
    "name": "ipython",
    "version": 3
   },
   "file_extension": ".py",
   "mimetype": "text/x-python",
   "name": "python",
   "nbconvert_exporter": "python",
   "pygments_lexer": "ipython3",
   "version": "3.9.5"
  }
 },
 "nbformat": 4,
 "nbformat_minor": 5
}
